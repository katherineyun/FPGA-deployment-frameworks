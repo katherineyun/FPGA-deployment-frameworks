{
 "cells": [
  {
   "cell_type": "code",
   "execution_count": 1,
   "metadata": {},
   "outputs": [],
   "source": [
    "import pandas as pd\n",
    "from tensorflow.keras.utils import to_categorical\n",
    "from sklearn.model_selection import train_test_split\n",
    "import numpy as np"
   ]
  },
  {
   "cell_type": "code",
   "execution_count": 2,
   "metadata": {},
   "outputs": [],
   "source": [
    "train = pd.read_csv(\"./data/train.csv\")\n",
    "test = pd.read_csv(\"./data/test.csv\")\n",
    "Y_train = train[\"label\"]\n",
    "X_train = train.drop(labels = [\"label\"],axis = 1) \n",
    "\n",
    "del train \n",
    "X_train = X_train / 255.0\n",
    "test = test / 255.0\n",
    "X_train = X_train.values.reshape(-1,28,28,1)\n",
    "test = test.values.reshape(-1,28,28,1)\n",
    "Y_train = to_categorical(Y_train, num_classes = 10)\n",
    "random_seed = 2\n",
    "X_train, X_val, Y_train, Y_val = train_test_split(X_train, Y_train, test_size = 0.1, random_state=random_seed)"
   ]
  },
  {
   "cell_type": "code",
   "execution_count": 3,
   "metadata": {},
   "outputs": [],
   "source": [
    "test_X = X_val[0:200]\n",
    "np.save('./data/test_X.npy', test_X)\n",
    "test_Y = Y_val[0:200]\n",
    "np.save('./data/test_Y.npy', test_Y)"
   ]
  },
  {
   "cell_type": "code",
   "execution_count": 4,
   "metadata": {},
   "outputs": [],
   "source": [
    "def make_dat_file(original_path, project_path): \n",
    "    \"\"\"\n",
    "    Convert other input/output data types into a dat file, which is\n",
    "    a text file with the falttened matrix printed out. Note that ' ' is\n",
    "    assumed to be the delimiter. \n",
    "    \"\"\"\n",
    "\n",
    "    #Take in data from current supported data files\n",
    "    if original_path[-3:] == \"npy\":\n",
    "        data = np.load(original_path)\n",
    "    else:\n",
    "        raise Exception(\"Unsupported input/output data files.\")\n",
    "\n",
    "    #Faltten data, just keep first dimension\n",
    "    data = data.reshape(data.shape[0], -1)\n",
    "\n",
    "    def print_data(f):\n",
    "        for i in range(data.shape[0]):\n",
    "            for j in range(data.shape[1]):\n",
    "                f.write(str(data[i][j]) + \" \")\n",
    "            f.write(\"\\n\")\n",
    "\n",
    "    #Print out in dat file\n",
    "    with open(project_path, \"w\" ) as f:\n",
    "        print_data(f)"
   ]
  },
  {
   "cell_type": "code",
   "execution_count": 5,
   "metadata": {},
   "outputs": [],
   "source": [
    "make_dat_file('./data/test_X.npy','./model_1/hls4ml_prj/tb_data/tb_input_features.dat')\n",
    "make_dat_file('./data/test_Y.npy','./model_1/hls4ml_prj/tb_data/tb_output_predictions.dat')"
   ]
  },
  {
   "cell_type": "code",
   "execution_count": null,
   "metadata": {},
   "outputs": [],
   "source": []
  }
 ],
 "metadata": {
  "kernelspec": {
   "display_name": "Python 3",
   "language": "python",
   "name": "python3"
  },
  "language_info": {
   "codemirror_mode": {
    "name": "ipython",
    "version": 3
   },
   "file_extension": ".py",
   "mimetype": "text/x-python",
   "name": "python",
   "nbconvert_exporter": "python",
   "pygments_lexer": "ipython3",
   "version": "3.6.8"
  }
 },
 "nbformat": 4,
 "nbformat_minor": 4
}
