{
 "cells": [
  {
   "cell_type": "code",
   "execution_count": 1,
   "metadata": {},
   "outputs": [],
   "source": [
    "from tensorflow.keras.utils import to_categorical\n",
    "import plotting\n",
    "import os\n",
    "import numpy as np\n",
    "import pandas as pd\n",
    "from sklearn.model_selection import train_test_split\n",
    "from tensorflow.keras.models import Sequential\n",
    "from tensorflow.keras.layers import Dense, Activation, BatchNormalization, Dropout, Flatten, Conv2D, MaxPool2D\n",
    "from tensorflow.keras.optimizers import Adam"
   ]
  },
  {
   "cell_type": "code",
   "execution_count": 2,
   "metadata": {},
   "outputs": [],
   "source": [
    "train = pd.read_csv(\"./data/train.csv\")\n",
    "test = pd.read_csv(\"./data/test.csv\")\n",
    "Y_train = train[\"label\"]\n",
    "X_train = train.drop(labels = [\"label\"],axis = 1) \n",
    "\n",
    "del train \n",
    "X_train = X_train / 255.0\n",
    "test = test / 255.0\n",
    "X_train = X_train.values.reshape(-1,28,28,1)\n",
    "test = test.values.reshape(-1,28,28,1)\n",
    "Y_train = to_categorical(Y_train, num_classes = 10)\n",
    "random_seed = 2\n",
    "X_train, X_val, Y_train, Y_val = train_test_split(X_train, Y_train, test_size = 0.1, random_state=random_seed)"
   ]
  },
  {
   "cell_type": "code",
   "execution_count": 4,
   "metadata": {},
   "outputs": [
    {
     "name": "stdout",
     "output_type": "stream",
     "text": [
      "Model: \"sequential_1\"\n",
      "_________________________________________________________________\n",
      "Layer (type)                 Output Shape              Param #   \n",
      "=================================================================\n",
      "conv1 (Conv2D)               (None, 28, 28, 8)         80        \n",
      "_________________________________________________________________\n",
      "max1 (MaxPooling2D)          (None, 14, 14, 8)         0         \n",
      "_________________________________________________________________\n",
      "batch1 (BatchNormalization)  (None, 14, 14, 8)         32        \n",
      "_________________________________________________________________\n",
      "relu1 (Activation)           (None, 14, 14, 8)         0         \n",
      "_________________________________________________________________\n",
      "drop1 (Dropout)              (None, 14, 14, 8)         0         \n",
      "_________________________________________________________________\n",
      "conv2 (Conv2D)               (None, 14, 14, 8)         584       \n",
      "_________________________________________________________________\n",
      "max2 (MaxPooling2D)          (None, 7, 7, 8)           0         \n",
      "_________________________________________________________________\n",
      "batch2 (BatchNormalization)  (None, 7, 7, 8)           32        \n",
      "_________________________________________________________________\n",
      "relu2 (Activation)           (None, 7, 7, 8)           0         \n",
      "_________________________________________________________________\n",
      "drop2 (Dropout)              (None, 7, 7, 8)           0         \n",
      "_________________________________________________________________\n",
      "conv3 (Conv2D)               (None, 7, 7, 8)           584       \n",
      "_________________________________________________________________\n",
      "max3 (MaxPooling2D)          (None, 3, 3, 8)           0         \n",
      "_________________________________________________________________\n",
      "batch3 (BatchNormalization)  (None, 3, 3, 8)           32        \n",
      "_________________________________________________________________\n",
      "relu3 (Activation)           (None, 3, 3, 8)           0         \n",
      "_________________________________________________________________\n",
      "drop3 (Dropout)              (None, 3, 3, 8)           0         \n",
      "_________________________________________________________________\n",
      "flatten_1 (Flatten)          (None, 72)                0         \n",
      "_________________________________________________________________\n",
      "dense2 (Dense)               (None, 32)                2336      \n",
      "_________________________________________________________________\n",
      "batch5 (BatchNormalization)  (None, 32)                128       \n",
      "_________________________________________________________________\n",
      "relu5 (Activation)           (None, 32)                0         \n",
      "_________________________________________________________________\n",
      "drop5 (Dropout)              (None, 32)                0         \n",
      "_________________________________________________________________\n",
      "dense5 (Dense)               (None, 10)                330       \n",
      "_________________________________________________________________\n",
      "soft (Activation)            (None, 10)                0         \n",
      "=================================================================\n",
      "Total params: 4,138\n",
      "Trainable params: 4,026\n",
      "Non-trainable params: 112\n",
      "_________________________________________________________________\n"
     ]
    }
   ],
   "source": [
    "model = Sequential()\n",
    "\n",
    "model.add(Conv2D(name = 'conv1', filters = 8, kernel_size = (3,3),padding = 'Same', \n",
    "                 activation ='relu', input_shape = (28,28,1)))\n",
    "model.add(MaxPool2D(name = 'max1', pool_size=(2,2)))\n",
    "model.add(BatchNormalization(name = 'batch1'))\n",
    "model.add(Activation('relu', name = 'relu1'))\n",
    "model.add(Dropout(0.25, name = 'drop1'))\n",
    "\n",
    "model.add(Conv2D(name = 'conv2', filters = 8, kernel_size = (3,3),padding = 'Same', \n",
    "                 activation ='relu'))\n",
    "model.add(MaxPool2D(name = 'max2', pool_size=(2,2)))\n",
    "model.add(BatchNormalization(name = 'batch2'))\n",
    "model.add(Activation('relu', name = 'relu2'))\n",
    "model.add(Dropout(0.25, name = 'drop2'))\n",
    "\n",
    "\n",
    "model.add(Conv2D(name = 'conv3', filters = 8, kernel_size = (3,3),padding = 'Same'))\n",
    "model.add(MaxPool2D(name = 'max3', pool_size=(2,2), strides=(2,2)))\n",
    "model.add(BatchNormalization(name = 'batch3'))\n",
    "model.add(Activation('relu', name = 'relu3'))\n",
    "model.add(Dropout(0.25, name = 'drop3'))\n",
    "\n",
    "\n",
    "model.add(Flatten())\n",
    "# model.add(Dense(48, activation = \"relu\", name = 'dense1'))\n",
    "# model.add(BatchNormalization(name = 'batch4'))\n",
    "# model.add(Activation('relu', name = 'relu4'))\n",
    "# model.add(Dropout(0.25, name = 'drop4'))\n",
    "\n",
    "model.add(Dense(32, activation = \"relu\", name = 'dense2'))\n",
    "model.add(BatchNormalization(name = 'batch5'))\n",
    "model.add(Activation('relu', name = 'relu5'))\n",
    "model.add(Dropout(0.25, name = 'drop5'))\n",
    "\n",
    "model.add(Dense(10, name = 'dense5'))\n",
    "model.add(Activation('softmax', name = 'soft'))\n",
    "model.summary()"
   ]
  },
  {
   "cell_type": "code",
   "execution_count": 6,
   "metadata": {},
   "outputs": [
    {
     "name": "stdout",
     "output_type": "stream",
     "text": [
      "Model: \"sequential_2\"\n",
      "_________________________________________________________________\n",
      "Layer (type)                 Output Shape              Param #   \n",
      "=================================================================\n",
      "conv2d_4 (Conv2D)            (None, 26, 26, 4)         40        \n",
      "_________________________________________________________________\n",
      "max_pooling2d_2 (MaxPooling2 (None, 13, 13, 4)         0         \n",
      "_________________________________________________________________\n",
      "conv2d_5 (Conv2D)            (None, 11, 11, 8)         296       \n",
      "_________________________________________________________________\n",
      "max_pooling2d_3 (MaxPooling2 (None, 5, 5, 8)           0         \n",
      "_________________________________________________________________\n",
      "conv2d_6 (Conv2D)            (None, 3, 3, 16)          1168      \n",
      "_________________________________________________________________\n",
      "flatten_1 (Flatten)          (None, 144)               0         \n",
      "_________________________________________________________________\n",
      "dense_2 (Dense)              (None, 16)                2320      \n",
      "_________________________________________________________________\n",
      "dense_3 (Dense)              (None, 10)                170       \n",
      "=================================================================\n",
      "Total params: 3,994\n",
      "Trainable params: 3,994\n",
      "Non-trainable params: 0\n",
      "_________________________________________________________________\n"
     ]
    }
   ],
   "source": [
    "model = Sequential()\n",
    "model.add(Conv2D(4, (3, 3), activation='relu', input_shape=(28, 28, 1)))\n",
    "model.add(MaxPool2D((2, 2)))\n",
    "model.add(Conv2D(8, (3, 3), activation='relu'))\n",
    "model.add(MaxPool2D((2, 2)))\n",
    "model.add(Conv2D(16, (3, 3), activation='relu'))\n",
    "model.add(Flatten())\n",
    "model.add(Dense(16, activation='relu'))\n",
    "model.add(Dense(10, activation='softmax'))\n",
    "model.summary()"
   ]
  },
  {
   "cell_type": "code",
   "execution_count": 7,
   "metadata": {},
   "outputs": [
    {
     "name": "stdout",
     "output_type": "stream",
     "text": [
      "Epoch 1/20\n",
      "886/886 [==============================] - 6s 7ms/step - loss: 1.8756 - accuracy: 0.3849 - val_loss: 1.0582 - val_accuracy: 0.7352\n",
      "Epoch 2/20\n",
      "886/886 [==============================] - 6s 7ms/step - loss: 0.7264 - accuracy: 0.7978 - val_loss: 0.5577 - val_accuracy: 0.8389\n",
      "Epoch 3/20\n",
      "886/886 [==============================] - 7s 7ms/step - loss: 0.5141 - accuracy: 0.8480 - val_loss: 0.4621 - val_accuracy: 0.8638\n",
      "Epoch 4/20\n",
      "886/886 [==============================] - 6s 7ms/step - loss: 0.4381 - accuracy: 0.8694 - val_loss: 0.4014 - val_accuracy: 0.8829\n",
      "Epoch 5/20\n",
      "886/886 [==============================] - 6s 7ms/step - loss: 0.3924 - accuracy: 0.8812 - val_loss: 0.3630 - val_accuracy: 0.8942\n",
      "Epoch 6/20\n",
      "886/886 [==============================] - 6s 7ms/step - loss: 0.3604 - accuracy: 0.8910 - val_loss: 0.3413 - val_accuracy: 0.8982\n",
      "Epoch 7/20\n",
      "886/886 [==============================] - 6s 7ms/step - loss: 0.3355 - accuracy: 0.8980 - val_loss: 0.3168 - val_accuracy: 0.9059\n",
      "Epoch 8/20\n",
      "886/886 [==============================] - 6s 7ms/step - loss: 0.3142 - accuracy: 0.9059 - val_loss: 0.2959 - val_accuracy: 0.9129\n",
      "Epoch 9/20\n",
      "886/886 [==============================] - 6s 7ms/step - loss: 0.2951 - accuracy: 0.9113 - val_loss: 0.2792 - val_accuracy: 0.9166\n",
      "Epoch 10/20\n",
      "886/886 [==============================] - 6s 7ms/step - loss: 0.2773 - accuracy: 0.9166 - val_loss: 0.2661 - val_accuracy: 0.9187\n",
      "Epoch 11/20\n",
      "886/886 [==============================] - 6s 7ms/step - loss: 0.2622 - accuracy: 0.9207 - val_loss: 0.2471 - val_accuracy: 0.9262\n",
      "Epoch 12/20\n",
      "886/886 [==============================] - 6s 7ms/step - loss: 0.2477 - accuracy: 0.9252 - val_loss: 0.2360 - val_accuracy: 0.9286\n",
      "Epoch 13/20\n",
      "886/886 [==============================] - 7s 7ms/step - loss: 0.2347 - accuracy: 0.9296 - val_loss: 0.2200 - val_accuracy: 0.9333\n",
      "Epoch 14/20\n",
      "886/886 [==============================] - 7s 8ms/step - loss: 0.2212 - accuracy: 0.9331 - val_loss: 0.2081 - val_accuracy: 0.9374\n",
      "Epoch 15/20\n",
      "886/886 [==============================] - 7s 7ms/step - loss: 0.2087 - accuracy: 0.9365 - val_loss: 0.1982 - val_accuracy: 0.9407\n",
      "Epoch 16/20\n",
      "886/886 [==============================] - 7s 8ms/step - loss: 0.1980 - accuracy: 0.9399 - val_loss: 0.1866 - val_accuracy: 0.9440\n",
      "Epoch 17/20\n",
      "886/886 [==============================] - 7s 7ms/step - loss: 0.1882 - accuracy: 0.9432 - val_loss: 0.1781 - val_accuracy: 0.9461\n",
      "Epoch 18/20\n",
      "886/886 [==============================] - 7s 7ms/step - loss: 0.1795 - accuracy: 0.9459 - val_loss: 0.1700 - val_accuracy: 0.9494\n",
      "Epoch 19/20\n",
      "886/886 [==============================] - 7s 8ms/step - loss: 0.1715 - accuracy: 0.9482 - val_loss: 0.1644 - val_accuracy: 0.9499\n",
      "Epoch 20/20\n",
      "886/886 [==============================] - 6s 7ms/step - loss: 0.1639 - accuracy: 0.9499 - val_loss: 0.1572 - val_accuracy: 0.9541\n"
     ]
    },
    {
     "data": {
      "text/plain": [
       "<tensorflow.python.keras.callbacks.History at 0x7f837a0f3828>"
      ]
     },
     "execution_count": 7,
     "metadata": {},
     "output_type": "execute_result"
    }
   ],
   "source": [
    "adam = Adam(lr=0.0001)\n",
    "model.compile(optimizer=adam, loss=['categorical_crossentropy'], metrics=['accuracy'])\n",
    "model.fit(X_train, Y_train, batch_size=32,\n",
    "              epochs=20, validation_split=0.25, shuffle=True)"
   ]
  },
  {
   "cell_type": "code",
   "execution_count": 8,
   "metadata": {},
   "outputs": [
    {
     "name": "stdout",
     "output_type": "stream",
     "text": [
      "0.9504761904761905\n"
     ]
    }
   ],
   "source": [
    "def accuracy(y_pred, y_true):\n",
    "    cnt = 0\n",
    "    for i in range(len(y_pred)):\n",
    "        if y_pred[i] == y_true[i]:\n",
    "            cnt += 1\n",
    "    return cnt/len(y_pred)\n",
    "pred = model.predict(X_val)\n",
    "y_pred = np.argmax(pred, axis = 1)\n",
    "y_true = np.argmax(Y_val, axis = 1)\n",
    "print(accuracy(y_pred, y_true))"
   ]
  },
  {
   "cell_type": "code",
   "execution_count": 9,
   "metadata": {},
   "outputs": [],
   "source": [
    "model.save('mnist_model3.h5')"
   ]
  },
  {
   "cell_type": "code",
   "execution_count": 10,
   "metadata": {},
   "outputs": [
    {
     "data": {
      "text/plain": [
       "<tensorflow.python.keras.engine.sequential.Sequential at 0x7f84046d7978>"
      ]
     },
     "execution_count": 10,
     "metadata": {},
     "output_type": "execute_result"
    }
   ],
   "source": []
  },
  {
   "cell_type": "code",
   "execution_count": null,
   "metadata": {},
   "outputs": [],
   "source": []
  }
 ],
 "metadata": {
  "kernelspec": {
   "display_name": "Python 3",
   "language": "python",
   "name": "python3"
  },
  "language_info": {
   "codemirror_mode": {
    "name": "ipython",
    "version": 3
   },
   "file_extension": ".py",
   "mimetype": "text/x-python",
   "name": "python",
   "nbconvert_exporter": "python",
   "pygments_lexer": "ipython3",
   "version": "3.6.8"
  }
 },
 "nbformat": 4,
 "nbformat_minor": 5
}
