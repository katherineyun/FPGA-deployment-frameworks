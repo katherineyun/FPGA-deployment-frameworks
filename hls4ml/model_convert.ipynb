{
 "cells": [
  {
   "cell_type": "code",
   "execution_count": 13,
   "metadata": {},
   "outputs": [],
   "source": [
    "import tensorflow as tf\n",
    "import hls4ml\n",
    "import plotting\n",
    "import matplotlib.pyplot as plt\n",
    "import yaml\n",
    "%matplotlib inline"
   ]
  },
  {
   "cell_type": "code",
   "execution_count": 14,
   "metadata": {},
   "outputs": [
    {
     "data": {
      "text/plain": [
       "'0.5.0'"
      ]
     },
     "execution_count": 14,
     "metadata": {},
     "output_type": "execute_result"
    }
   ],
   "source": [
    "hls4ml.__version__"
   ]
  },
  {
   "cell_type": "code",
   "execution_count": 15,
   "metadata": {},
   "outputs": [
    {
     "name": "stdout",
     "output_type": "stream",
     "text": [
      "Model: \"sequential_1\"\n",
      "_________________________________________________________________\n",
      "Layer (type)                 Output Shape              Param #   \n",
      "=================================================================\n",
      "conv1 (Conv2D)               (None, 28, 28, 8)         80        \n",
      "_________________________________________________________________\n",
      "max1 (MaxPooling2D)          (None, 14, 14, 8)         0         \n",
      "_________________________________________________________________\n",
      "batch1 (BatchNormalization)  (None, 14, 14, 8)         32        \n",
      "_________________________________________________________________\n",
      "relu1 (Activation)           (None, 14, 14, 8)         0         \n",
      "_________________________________________________________________\n",
      "drop1 (Dropout)              (None, 14, 14, 8)         0         \n",
      "_________________________________________________________________\n",
      "conv2 (Conv2D)               (None, 14, 14, 8)         584       \n",
      "_________________________________________________________________\n",
      "max2 (MaxPooling2D)          (None, 7, 7, 8)           0         \n",
      "_________________________________________________________________\n",
      "batch2 (BatchNormalization)  (None, 7, 7, 8)           32        \n",
      "_________________________________________________________________\n",
      "relu2 (Activation)           (None, 7, 7, 8)           0         \n",
      "_________________________________________________________________\n",
      "drop2 (Dropout)              (None, 7, 7, 8)           0         \n",
      "_________________________________________________________________\n",
      "conv3 (Conv2D)               (None, 7, 7, 8)           584       \n",
      "_________________________________________________________________\n",
      "max3 (MaxPooling2D)          (None, 3, 3, 8)           0         \n",
      "_________________________________________________________________\n",
      "batch3 (BatchNormalization)  (None, 3, 3, 8)           32        \n",
      "_________________________________________________________________\n",
      "relu3 (Activation)           (None, 3, 3, 8)           0         \n",
      "_________________________________________________________________\n",
      "drop3 (Dropout)              (None, 3, 3, 8)           0         \n",
      "_________________________________________________________________\n",
      "flatten_1 (Flatten)          (None, 72)                0         \n",
      "_________________________________________________________________\n",
      "dense2 (Dense)               (None, 32)                2336      \n",
      "_________________________________________________________________\n",
      "batch5 (BatchNormalization)  (None, 32)                128       \n",
      "_________________________________________________________________\n",
      "relu5 (Activation)           (None, 32)                0         \n",
      "_________________________________________________________________\n",
      "drop5 (Dropout)              (None, 32)                0         \n",
      "_________________________________________________________________\n",
      "dense5 (Dense)               (None, 10)                330       \n",
      "_________________________________________________________________\n",
      "soft (Activation)            (None, 10)                0         \n",
      "=================================================================\n",
      "Total params: 4,138\n",
      "Trainable params: 4,026\n",
      "Non-trainable params: 112\n",
      "_________________________________________________________________\n"
     ]
    }
   ],
   "source": [
    "model = tf.keras.models.load_model('mnist_model2.h5')\n",
    "model.summary()"
   ]
  },
  {
   "cell_type": "code",
   "execution_count": 17,
   "metadata": {
    "scrolled": true
   },
   "outputs": [
    {
     "name": "stdout",
     "output_type": "stream",
     "text": [
      "Interpreting Sequential\n",
      "Topology:\n",
      "Layer name: conv1_input, layer type: Input\n",
      "Layer name: conv1, layer type: Conv2D\n",
      "  -> Activation (relu), layer name: conv1\n",
      "Layer name: max1, layer type: MaxPooling2D\n",
      "Layer name: batch1, layer type: BatchNormalization\n",
      "Layer name: relu1, layer type: Activation\n",
      "Layer name: conv2, layer type: Conv2D\n",
      "  -> Activation (relu), layer name: conv2\n",
      "Layer name: max2, layer type: MaxPooling2D\n",
      "Layer name: batch2, layer type: BatchNormalization\n",
      "Layer name: relu2, layer type: Activation\n",
      "Layer name: conv3, layer type: Conv2D\n",
      "  -> Activation (linear), layer name: conv3\n",
      "Layer name: max3, layer type: MaxPooling2D\n",
      "Layer name: batch3, layer type: BatchNormalization\n",
      "Layer name: relu3, layer type: Activation\n",
      "Layer name: dense2, layer type: Dense\n",
      "  -> Activation (relu), layer name: dense2\n",
      "Layer name: batch5, layer type: BatchNormalization\n",
      "Layer name: relu5, layer type: Activation\n",
      "Layer name: dense5, layer type: Dense\n",
      "  -> Activation (linear), layer name: dense5\n",
      "Layer name: soft, layer type: Activation\n",
      "Model\n",
      "  Precision:         ap_fixed<16,6>\n",
      "  ReuseFactor:       250\n",
      "  Strategy:          Latency\n",
      "LayerName\n",
      "  conv1_input\n",
      "    Precision\n",
      "      result:        ap_fixed<16,6>\n",
      "  conv1\n",
      "    Precision\n",
      "      weight:        ap_fixed<16,6>\n",
      "      bias:          ap_fixed<16,6>\n",
      "      result:        ap_fixed<16,6>\n",
      "    ReuseFactor:     1\n",
      "  conv1_relu\n",
      "    Precision:       ap_fixed<16,6>\n",
      "    ReuseFactor:     1\n",
      "    table_size:      1024\n",
      "    table_t:         ap_fixed<18,8>\n",
      "  max1\n",
      "    Precision:       ap_fixed<16,6>\n",
      "  batch1\n",
      "    Precision\n",
      "      scale:         ap_fixed<16,6>\n",
      "      bias:          ap_fixed<16,6>\n",
      "    ReuseFactor:     1\n",
      "  relu1\n",
      "    Precision:       ap_fixed<16,6>\n",
      "    ReuseFactor:     1\n",
      "    table_size:      1024\n",
      "    table_t:         ap_fixed<18,8>\n",
      "  conv2\n",
      "    Precision\n",
      "      weight:        ap_fixed<16,6>\n",
      "      bias:          ap_fixed<16,6>\n",
      "      result:        ap_fixed<16,6>\n",
      "    ReuseFactor:     1\n",
      "  conv2_relu\n",
      "    Precision:       ap_fixed<16,6>\n",
      "    ReuseFactor:     1\n",
      "    table_size:      1024\n",
      "    table_t:         ap_fixed<18,8>\n",
      "  max2\n",
      "    Precision:       ap_fixed<16,6>\n",
      "  batch2\n",
      "    Precision\n",
      "      scale:         ap_fixed<16,6>\n",
      "      bias:          ap_fixed<16,6>\n",
      "    ReuseFactor:     1\n",
      "  relu2\n",
      "    Precision:       ap_fixed<16,6>\n",
      "    ReuseFactor:     1\n",
      "    table_size:      1024\n",
      "    table_t:         ap_fixed<18,8>\n",
      "  conv3\n",
      "    Precision\n",
      "      weight:        ap_fixed<16,6>\n",
      "      bias:          ap_fixed<16,6>\n",
      "      result:        ap_fixed<16,6>\n",
      "    ReuseFactor:     1\n",
      "  conv3_linear\n",
      "    Precision:       ap_fixed<16,6>\n",
      "    ReuseFactor:     1\n",
      "    table_size:      1024\n",
      "    table_t:         ap_fixed<18,8>\n",
      "  max3\n",
      "    Precision:       ap_fixed<16,6>\n",
      "  batch3\n",
      "    Precision\n",
      "      scale:         ap_fixed<16,6>\n",
      "      bias:          ap_fixed<16,6>\n",
      "    ReuseFactor:     1\n",
      "  relu3\n",
      "    Precision:       ap_fixed<16,6>\n",
      "    ReuseFactor:     1\n",
      "    table_size:      1024\n",
      "    table_t:         ap_fixed<18,8>\n",
      "  dense2\n",
      "    Precision\n",
      "      weight:        ap_fixed<16,6>\n",
      "      bias:          ap_fixed<16,6>\n",
      "      result:        ap_fixed<16,6>\n",
      "    ReuseFactor:     1\n",
      "  dense2_relu\n",
      "    Precision:       ap_fixed<16,6>\n",
      "    ReuseFactor:     1\n",
      "    table_size:      1024\n",
      "    table_t:         ap_fixed<18,8>\n",
      "  batch5\n",
      "    Precision\n",
      "      scale:         ap_fixed<16,6>\n",
      "      bias:          ap_fixed<16,6>\n",
      "    ReuseFactor:     1\n",
      "  relu5\n",
      "    Precision:       ap_fixed<16,6>\n",
      "    ReuseFactor:     1\n",
      "    table_size:      1024\n",
      "    table_t:         ap_fixed<18,8>\n",
      "  dense5\n",
      "    Precision\n",
      "      weight:        ap_fixed<16,6>\n",
      "      bias:          ap_fixed<16,6>\n",
      "      result:        ap_fixed<16,6>\n",
      "    ReuseFactor:     1\n",
      "  dense5_linear\n",
      "    Precision:       ap_fixed<16,6>\n",
      "    ReuseFactor:     1\n",
      "    table_size:      1024\n",
      "    table_t:         ap_fixed<18,8>\n",
      "  soft\n",
      "    Precision:       ap_fixed<16,6>\n",
      "    ReuseFactor:     1\n",
      "    table_size:      1024\n",
      "    exp_table_t:     ap_fixed<18,8,AP_RND,AP_SAT>\n",
      "    inv_table_t:     ap_fixed<18,8,AP_RND,AP_SAT>\n",
      "    Strategy:        Stable\n",
      "Interpreting Sequential\n",
      "Topology:\n",
      "Layer name: conv1_input, layer type: InputLayer, current shape: [[None, 28, 28, 1]]\n",
      "Layer name: conv1, layer type: Conv2D, current shape: [[None, 28, 28, 1]]\n",
      "Layer name: max1, layer type: MaxPooling2D, current shape: [[None, 28, 28, 8]]\n",
      "Layer name: batch1, layer type: BatchNormalization, current shape: [[None, 14, 14, 8]]\n",
      "Layer name: relu1, layer type: Activation, current shape: [[None, 14, 14, 8]]\n",
      "Layer name: conv2, layer type: Conv2D, current shape: [[None, 14, 14, 8]]\n",
      "Layer name: max2, layer type: MaxPooling2D, current shape: [[None, 14, 14, 8]]\n",
      "Layer name: batch2, layer type: BatchNormalization, current shape: [[None, 7, 7, 8]]\n",
      "Layer name: relu2, layer type: Activation, current shape: [[None, 7, 7, 8]]\n",
      "Layer name: conv3, layer type: Conv2D, current shape: [[None, 7, 7, 8]]\n",
      "Layer name: max3, layer type: MaxPooling2D, current shape: [[None, 7, 7, 8]]\n",
      "Layer name: batch3, layer type: BatchNormalization, current shape: [[None, 3, 3, 8]]\n",
      "Layer name: relu3, layer type: Activation, current shape: [[None, 3, 3, 8]]\n",
      "Layer name: dense2, layer type: Dense, current shape: [[None, 3, 3, 8]]\n",
      "Layer name: batch5, layer type: BatchNormalization, current shape: [[None, 32]]\n",
      "Layer name: relu5, layer type: Activation, current shape: [[None, 32]]\n",
      "Layer name: dense5, layer type: Dense, current shape: [[None, 32]]\n",
      "Layer name: soft, layer type: Softmax, current shape: [[None, 10]]\n",
      "Creating HLS model\n"
     ]
    }
   ],
   "source": [
    "config = hls4ml.utils.config_from_keras_model(model, granularity='name')\n",
    "config['Model']['Precision'] = 'ap_fixed<16,6>'\n",
    "config['Model']['Strategy'] = 'Latency'\n",
    "config['Model']['ReuseFactor'] = 250\n",
    "config['LayerName']['soft']['Strategy'] = 'Stable'\n",
    "plotting.print_dict(config)\n",
    "hls_model = hls4ml.converters.convert_from_keras_model(model,\n",
    "                                                       output_dir='model_2/hls4ml_prj',\n",
    "                                                       fpga_part='xcu250-figd2104-2L-e',\n",
    "                                                       io_type = 'io_parallel',\n",
    "                                                       hls_config = config)"
   ]
  },
  {
   "cell_type": "code",
   "execution_count": 18,
   "metadata": {
    "scrolled": true
   },
   "outputs": [
    {
     "name": "stdout",
     "output_type": "stream",
     "text": [
      "Writing HLS project\n",
      "Done\n"
     ]
    }
   ],
   "source": [
    "hls_model.compile()"
   ]
  },
  {
   "cell_type": "code",
   "execution_count": 19,
   "metadata": {},
   "outputs": [],
   "source": [
    "import pandas as pd\n",
    "from tensorflow.keras.utils import to_categorical\n",
    "from sklearn.model_selection import train_test_split\n",
    "train = pd.read_csv(\"./data/train.csv\")\n",
    "test = pd.read_csv(\"./data/test.csv\")\n",
    "Y_train = train[\"label\"]\n",
    "X_train = train.drop(labels = [\"label\"],axis = 1) \n",
    "\n",
    "del train \n",
    "X_train = X_train / 255.0\n",
    "test = test / 255.0\n",
    "X_train = X_train.values.reshape(-1,28,28,1)\n",
    "test = test.values.reshape(-1,28,28,1)\n",
    "Y_train = to_categorical(Y_train, num_classes = 10)\n",
    "random_seed = 2\n",
    "X_train, X_val, Y_train, Y_val = train_test_split(X_train, Y_train, test_size = 0.1, random_state=random_seed)"
   ]
  },
  {
   "cell_type": "code",
   "execution_count": 20,
   "metadata": {},
   "outputs": [],
   "source": [
    "import numpy as np\n",
    "def accuracy(y_pred, y_true):\n",
    "    cnt = 0\n",
    "    for i in range(len(y_pred)):\n",
    "        if y_pred[i] == y_true[i]:\n",
    "            cnt += 1\n",
    "    return cnt/len(y_pred)"
   ]
  },
  {
   "cell_type": "code",
   "execution_count": 21,
   "metadata": {
    "scrolled": true
   },
   "outputs": [
    {
     "name": "stdout",
     "output_type": "stream",
     "text": [
      "hls accuracy: 0.930952380952381\n",
      "keras acuracy: 0.9357142857142857\n"
     ]
    }
   ],
   "source": [
    "# keras_pred = model.predict(X_val[5:10])\n",
    "# print(keras_pred)\n",
    "# hls_pred = hls_model.predict(X_val[5:10])\n",
    "# print(hls_pred)\n",
    "\n",
    "# y_true = np.argmax(Y_val[5:10], axis = 1)\n",
    "# print(y_true)\n",
    "\n",
    "keras_pred = model.predict(X_val)\n",
    "hls_pred = hls_model.predict(X_val)\n",
    "keras_pred = np.argmax(keras_pred, axis = 1)\n",
    "y_pred = np.argmax(hls_pred, axis = 1)\n",
    "y_true = np.argmax(Y_val, axis = 1)\n",
    "\n",
    "print('hls accuracy:', accuracy(y_pred, y_true))\n",
    "print('keras acuracy:', accuracy(keras_pred, y_true))"
   ]
  },
  {
   "cell_type": "code",
   "execution_count": null,
   "metadata": {},
   "outputs": [],
   "source": [
    "hls_pred = hls_model.predict(X_val[0:5])\n",
    "y_pred = np.argmax(hls_pred, axis = 1)\n",
    "y_true = np.argmax(Y_val[0:5], axis = 1)\n",
    "print(y_pred, y_true)"
   ]
  },
  {
   "cell_type": "code",
   "execution_count": null,
   "metadata": {
    "scrolled": true
   },
   "outputs": [],
   "source": [
    "ap, wp = hls4ml.model.profiling.numerical(model=model, hls_model = hls_model, X=X_val[0:100])\n",
    "plt.show()"
   ]
  },
  {
   "cell_type": "code",
   "execution_count": 22,
   "metadata": {},
   "outputs": [
    {
     "name": "stdout",
     "output_type": "stream",
     "text": [
      "Synthesis report not found.\n"
     ]
    },
    {
     "data": {
      "text/plain": [
       "{'CSimResults': [[0.0126953,\n",
       "   1.0,\n",
       "   0.0224609,\n",
       "   0.0205078,\n",
       "   0.0410156,\n",
       "   0.0166016,\n",
       "   0.0195313,\n",
       "   0.0634766,\n",
       "   0.0253906,\n",
       "   0.0224609]]}"
      ]
     },
     "execution_count": 22,
     "metadata": {},
     "output_type": "execute_result"
    }
   ],
   "source": [
    "hls_model.build(csim=True,synth=True,export=False)"
   ]
  },
  {
   "cell_type": "code",
   "execution_count": null,
   "metadata": {},
   "outputs": [],
   "source": [
    "hls4ml.report.read_vivado_report('model_3/hls4ml_prj/')"
   ]
  },
  {
   "cell_type": "code",
   "execution_count": null,
   "metadata": {},
   "outputs": [],
   "source": [
    "hls4ml.report.read_vivado_report('model_4/hls4ml_prj/')"
   ]
  },
  {
   "cell_type": "code",
   "execution_count": null,
   "metadata": {},
   "outputs": [],
   "source": [
    "import hls4ml\n",
    "hls4ml.report.read_vivado_report('model_2/hls4ml_prj/')"
   ]
  },
  {
   "cell_type": "code",
   "execution_count": null,
   "metadata": {},
   "outputs": [],
   "source": []
  }
 ],
 "metadata": {
  "kernelspec": {
   "display_name": "Python 3",
   "language": "python",
   "name": "python3"
  },
  "language_info": {
   "codemirror_mode": {
    "name": "ipython",
    "version": 3
   },
   "file_extension": ".py",
   "mimetype": "text/x-python",
   "name": "python",
   "nbconvert_exporter": "python",
   "pygments_lexer": "ipython3",
   "version": "3.6.8"
  }
 },
 "nbformat": 4,
 "nbformat_minor": 4
}
