{
 "cells": [
  {
   "cell_type": "code",
   "execution_count": 1,
   "metadata": {},
   "outputs": [],
   "source": [
    "from tensorflow.keras.utils import to_categorical\n",
    "import plotting\n",
    "import os\n",
    "import numpy as np\n",
    "import pandas as pd\n",
    "from sklearn.model_selection import train_test_split\n",
    "from tensorflow.keras.models import Sequential\n",
    "from tensorflow.keras.layers import Dense, Activation, BatchNormalization, Dropout, Flatten, Conv2D, MaxPool2D\n",
    "from tensorflow.keras.optimizers import Adam"
   ]
  },
  {
   "cell_type": "code",
   "execution_count": 45,
   "metadata": {},
   "outputs": [],
   "source": [
    "input_model1 = Sequential()\n",
    "\n",
    "input_model1.add(Conv2D(name = 'conv1', filters = 4, kernel_size = (3,3),padding = 'Same', input_shape = (28,28,3)))"
   ]
  },
  {
   "cell_type": "code",
   "execution_count": 49,
   "metadata": {},
   "outputs": [],
   "source": [
    "input_model2 = Sequential()\n",
    "\n",
    "input_model2.add(Conv2D(name = 'conv1', filters = 4, kernel_size = (3,3),padding = 'Same', \n",
    "                 activation ='relu', input_shape = (112,80,2)))"
   ]
  },
  {
   "cell_type": "code",
   "execution_count": 47,
   "metadata": {},
   "outputs": [],
   "source": [
    "input_model3 = Sequential()\n",
    "\n",
    "input_model3.add(Conv2D(name = 'conv1', filters = 4, kernel_size = (3,3),padding = 'Same', \n",
    "                 activation ='relu', input_shape = (224,224,3)))"
   ]
  },
  {
   "cell_type": "code",
   "execution_count": 51,
   "metadata": {},
   "outputs": [
    {
     "name": "stdout",
     "output_type": "stream",
     "text": [
      "Model: \"sequential_14\"\n",
      "_________________________________________________________________\n",
      "Layer (type)                 Output Shape              Param #   \n",
      "=================================================================\n",
      "conv1 (Conv2D)               (None, 112, 80, 4)        76        \n",
      "=================================================================\n",
      "Total params: 76\n",
      "Trainable params: 76\n",
      "Non-trainable params: 0\n",
      "_________________________________________________________________\n"
     ]
    }
   ],
   "source": [
    "input_model2.summary()"
   ]
  },
  {
   "cell_type": "code",
   "execution_count": 64,
   "metadata": {},
   "outputs": [
    {
     "name": "stdout",
     "output_type": "stream",
     "text": [
      "Interpreting Sequential\n",
      "Topology:\n",
      "Layer name: conv1_input, layer type: Input\n",
      "Layer name: conv1, layer type: Conv2D\n",
      "  -> Activation (relu), layer name: conv1\n",
      "Model\n",
      "  Precision:         ap_fixed<16,6>\n",
      "  ReuseFactor:       100\n",
      "  Strategy:          Latency\n",
      "LayerName\n",
      "  conv1_input\n",
      "    Precision\n",
      "      result:        ap_fixed<16,6>\n",
      "    ReuseFactor:     100\n",
      "  conv1\n",
      "    Precision\n",
      "      weight:        ap_fixed<16,6>\n",
      "      bias:          ap_fixed<16,6>\n",
      "      result:        ap_fixed<16,6>\n",
      "    ReuseFactor:     100\n",
      "  conv1_relu\n",
      "    Precision:       ap_fixed<16,6>\n",
      "    ReuseFactor:     100\n",
      "    table_size:      1024\n",
      "    table_t:         ap_fixed<18,8>\n",
      "Interpreting Sequential\n",
      "Topology:\n",
      "Layer name: conv1_input, layer type: InputLayer, current shape: [[None, 112, 80, 2]]\n",
      "Layer name: conv1, layer type: Conv2D, current shape: [[None, 112, 80, 2]]\n",
      "Creating HLS model\n"
     ]
    }
   ],
   "source": [
    "import hls4ml\n",
    "config = hls4ml.utils.config_from_keras_model(input_model2, granularity='name')\n",
    "config['Model']['Precision'] = 'ap_fixed<16,6>'\n",
    "config['Model']['ReuseFactor'] = 100\n",
    "for i in config['LayerName']:\n",
    "    config['LayerName'][i]['ReuseFactor'] = 100\n",
    "config['Model']['Strategy'] = 'Latency'\n",
    "\n",
    "#config['LayerName']['soft']['Strategy'] = 'Stable'\n",
    "plotting.print_dict(config)\n",
    "hls_model = hls4ml.converters.convert_from_keras_model(input_model2,\n",
    "                                                       output_dir='input_model1/hls4ml_prj',\n",
    "                                                       fpga_part='xcu250-figd2104-2L-e',\n",
    "                                                       io_type = 'io_stream',\n",
    "                                                       hls_config = config)"
   ]
  },
  {
   "cell_type": "code",
   "execution_count": 65,
   "metadata": {},
   "outputs": [
    {
     "name": "stdout",
     "output_type": "stream",
     "text": [
      "Writing HLS project\n",
      "Done\n"
     ]
    }
   ],
   "source": [
    "hls_model.compile()"
   ]
  },
  {
   "cell_type": "code",
   "execution_count": 66,
   "metadata": {},
   "outputs": [
    {
     "data": {
      "text/plain": [
       "{'EstimatedClockPeriod': '3.965',\n",
       " 'BestLatency': '560885',\n",
       " 'WorstLatency': '560885',\n",
       " 'IntervalMin': '560883',\n",
       " 'IntervalMax': '560883',\n",
       " 'BRAM_18K': '84',\n",
       " 'DSP48E': '1',\n",
       " 'FF': '3288',\n",
       " 'LUT': '6992',\n",
       " 'URAM': '0',\n",
       " 'AvailableBRAM_18K': '5376',\n",
       " 'AvailableDSP48E': '12288',\n",
       " 'AvailableFF': '3456000',\n",
       " 'AvailableLUT': '1728000',\n",
       " 'AvailableURAM': '1280'}"
      ]
     },
     "execution_count": 66,
     "metadata": {},
     "output_type": "execute_result"
    }
   ],
   "source": [
    "hls_model.build(csim=False,synth=True,export=False)"
   ]
  },
  {
   "cell_type": "code",
   "execution_count": null,
   "metadata": {},
   "outputs": [],
   "source": [
    "resource"
   ]
  },
  {
   "cell_type": "code",
   "execution_count": null,
   "metadata": {},
   "outputs": [],
   "source": [
    "input_model1 28*28*1\n",
    "resource\n",
    "{'EstimatedClockPeriod': '3.691',\n",
    " 'BestLatency': '1803',\n",
    " 'WorstLatency': '37803',\n",
    " 'IntervalMin': '1801',\n",
    " 'IntervalMax': '37801',\n",
    " 'BRAM_18K': '10',\n",
    " 'DSP48E': '1',\n",
    " 'FF': '866',\n",
    " 'LUT': '1814',\n",
    " 'URAM': '0',\n",
    " 'AvailableBRAM_18K': '5376',\n",
    " 'AvailableDSP48E': '12288',\n",
    " 'AvailableFF': '3456000',\n",
    " 'AvailableLUT': '1728000',\n",
    " 'AvailableURAM': '1280'}\n",
    "latency\n",
    "{'EstimatedClockPeriod': '3.424',\n",
    " 'BestLatency': '27004',\n",
    " 'WorstLatency': '27004',\n",
    " 'IntervalMin': '27003',\n",
    " 'IntervalMax': '27003',\n",
    " 'BRAM_18K': '10',\n",
    " 'DSP48E': '1',\n",
    " 'FF': '1264',\n",
    " 'LUT': '2263',\n",
    " 'URAM': '0',\n",
    " 'AvailableBRAM_18K': '5376',\n",
    " 'AvailableDSP48E': '12288',\n",
    " 'AvailableFF': '3456000',\n",
    " 'AvailableLUT': '1728000',\n",
    " 'AvailableURAM': '1280'}"
   ]
  },
  {
   "cell_type": "code",
   "execution_count": null,
   "metadata": {},
   "outputs": [],
   "source": [
    "input_model2 28*28*2\n",
    "resource\n",
    "{'EstimatedClockPeriod': '3.691',\n",
    " 'BestLatency': '69158',\n",
    " 'WorstLatency': '69303',\n",
    " 'IntervalMin': '1801',\n",
    " 'IntervalMax': '69301',\n",
    " 'BRAM_18K': '24',\n",
    " 'DSP48E': '1',\n",
    " 'FF': '1596',\n",
    " 'LUT': '2901',\n",
    " 'URAM': '0',\n",
    " 'AvailableBRAM_18K': '5376',\n",
    " 'AvailableDSP48E': '12288',\n",
    " 'AvailableFF': '3456000',\n",
    " 'AvailableLUT': '1728000',\n",
    " 'AvailableURAM': '1280'}\n",
    "latency\n",
    "{'EstimatedClockPeriod': '4.147',\n",
    " 'BestLatency': '50405',\n",
    " 'WorstLatency': '50405',\n",
    " 'IntervalMin': '50403',\n",
    " 'IntervalMax': '50403',\n",
    " 'BRAM_18K': '24',\n",
    " 'DSP48E': '1',\n",
    " 'FF': '2420',\n",
    " 'LUT': '4460',\n",
    " 'URAM': '0',\n",
    " 'AvailableBRAM_18K': '5376',\n",
    " 'AvailableDSP48E': '12288',\n",
    " 'AvailableFF': '3456000',\n",
    " 'AvailableLUT': '1728000',\n",
    " 'AvailableURAM': '1280'}"
   ]
  },
  {
   "cell_type": "code",
   "execution_count": null,
   "metadata": {},
   "outputs": [],
   "source": [
    "input_model3 28*28*3\n",
    "resource\n",
    "{'EstimatedClockPeriod': '3.691',\n",
    " 'BestLatency': '101486',\n",
    " 'WorstLatency': '101703',\n",
    " 'IntervalMin': '1801',\n",
    " 'IntervalMax': '101701',\n",
    " 'BRAM_18K': '35',\n",
    " 'DSP48E': '1',\n",
    " 'FF': '2103',\n",
    " 'LUT': '3387',\n",
    " 'URAM': '0',\n",
    " 'AvailableBRAM_18K': '5376',\n",
    " 'AvailableDSP48E': '12288',\n",
    " 'AvailableFF': '3456000',\n",
    " 'AvailableLUT': '1728000',\n",
    " 'AvailableURAM': '1280'}\n",
    "latency\n",
    "{'EstimatedClockPeriod': '4.053',\n",
    " 'BestLatency': '43205',\n",
    " 'WorstLatency': '43205',\n",
    " 'IntervalMin': '43203',\n",
    " 'IntervalMax': '43203',\n",
    " 'BRAM_18K': '34',\n",
    " 'DSP48E': '2',\n",
    " 'FF': '3478',\n",
    " 'LUT': '5820',\n",
    " 'URAM': '0',\n",
    " 'AvailableBRAM_18K': '5376',\n",
    " 'AvailableDSP48E': '12288',\n",
    " 'AvailableFF': '3456000',\n",
    " 'AvailableLUT': '1728000',\n",
    " 'AvailableURAM': '1280'}"
   ]
  },
  {
   "cell_type": "code",
   "execution_count": null,
   "metadata": {},
   "outputs": [],
   "source": [
    "28x28x3 - \n",
    "resource\n",
    "{'EstimatedClockPeriod': '3.691',\n",
    " 'BestLatency': '101486',\n",
    " 'WorstLatency': '101703',\n",
    " 'IntervalMin': '1801',\n",
    " 'IntervalMax': '101701',\n",
    " 'BRAM_18K': '35',\n",
    " 'DSP48E': '1',\n",
    " 'FF': '2103',\n",
    " 'LUT': '3387',\n",
    " 'URAM': '0',\n",
    " 'AvailableBRAM_18K': '5376',\n",
    " 'AvailableDSP48E': '12288',\n",
    " 'AvailableFF': '3456000',\n",
    " 'AvailableLUT': '1728000',\n",
    " 'AvailableURAM': '1280'}\n",
    "latency\n",
    "{'EstimatedClockPeriod': '4.053',\n",
    " 'BestLatency': '43205',\n",
    " 'WorstLatency': '43205',\n",
    " 'IntervalMin': '43203',\n",
    " 'IntervalMax': '43203',\n",
    " 'BRAM_18K': '34',\n",
    " 'DSP48E': '2',\n",
    " 'FF': '3478',\n",
    " 'LUT': '5820',\n",
    " 'URAM': '0',\n",
    " 'AvailableBRAM_18K': '5376',\n",
    " 'AvailableDSP48E': '12288',\n",
    " 'AvailableFF': '3456000',\n",
    " 'AvailableLUT': '1728000',\n",
    " 'AvailableURAM': '1280'}"
   ]
  },
  {
   "cell_type": "code",
   "execution_count": null,
   "metadata": {},
   "outputs": [],
   "source": [
    "112x80x3 - \n",
    "resource - 3.598 ms\n",
    "{'EstimatedClockPeriod': '3.691',\n",
    " 'BestLatency': '719654',\n",
    " 'WorstLatency': '719799',\n",
    " 'IntervalMin': '18697',\n",
    " 'IntervalMax': '719797',\n",
    " 'BRAM_18K': '84',\n",
    " 'DSP48E': '1',\n",
    " 'FF': '2362',\n",
    " 'LUT': '5387',\n",
    " 'URAM': '0',\n",
    " 'AvailableBRAM_18K': '5376',\n",
    " 'AvailableDSP48E': '12288',\n",
    " 'AvailableFF': '3456000',\n",
    " 'AvailableLUT': '1728000',\n",
    " 'AvailableURAM': '1280'}\n",
    "latency\n",
    "{'EstimatedClockPeriod': '3.965',\n",
    " 'BestLatency': '560885',\n",
    " 'WorstLatency': '560885',\n",
    " 'IntervalMin': '560883',\n",
    " 'IntervalMax': '560883',\n",
    " 'BRAM_18K': '84',\n",
    " 'DSP48E': '1',\n",
    " 'FF': '3288',\n",
    " 'LUT': '6992',\n",
    " 'URAM': '0',\n",
    " 'AvailableBRAM_18K': '5376',\n",
    " 'AvailableDSP48E': '12288',\n",
    " 'AvailableFF': '3456000',\n",
    " 'AvailableLUT': '1728000',\n",
    " 'AvailableURAM': '1280'}"
   ]
  },
  {
   "cell_type": "code",
   "execution_count": null,
   "metadata": {},
   "outputs": [],
   "source": [
    "224x224x3 - \n",
    "resource - 28.857 ms\n",
    "{'EstimatedClockPeriod': '3.691',\n",
    " 'BestLatency': '5771374',\n",
    " 'WorstLatency': '5771591',\n",
    " 'IntervalMin': '102153',\n",
    " 'IntervalMax': '5771589',\n",
    " 'BRAM_18K': '371',\n",
    " 'DSP48E': '1',\n",
    " 'FF': '6955',\n",
    " 'LUT': '20844',\n",
    " 'URAM': '0',\n",
    " 'AvailableBRAM_18K': '5376',\n",
    " 'AvailableDSP48E': '12288',\n",
    " 'AvailableFF': '3456000',\n",
    " 'AvailableLUT': '1728000',\n",
    " 'AvailableURAM': '1280'}\n",
    "latency\n",
    "{'EstimatedClockPeriod': '4.312',\n",
    " 'BestLatency': '2349501',\n",
    " 'WorstLatency': '2349501',\n",
    " 'IntervalMin': '2349499',\n",
    " 'IntervalMax': '2349499',\n",
    " 'BRAM_18K': '370',\n",
    " 'DSP48E': '2',\n",
    " 'FF': '8257',\n",
    " 'LUT': '23398',\n",
    " 'URAM': '0',\n",
    " 'AvailableBRAM_18K': '5376',\n",
    " 'AvailableDSP48E': '12288',\n",
    " 'AvailableFF': '3456000',\n",
    " 'AvailableLUT': '1728000',\n",
    " 'AvailableURAM': '1280'}"
   ]
  },
  {
   "cell_type": "code",
   "execution_count": null,
   "metadata": {},
   "outputs": [],
   "source": []
  }
 ],
 "metadata": {
  "kernelspec": {
   "display_name": "Python 3",
   "language": "python",
   "name": "python3"
  },
  "language_info": {
   "codemirror_mode": {
    "name": "ipython",
    "version": 3
   },
   "file_extension": ".py",
   "mimetype": "text/x-python",
   "name": "python",
   "nbconvert_exporter": "python",
   "pygments_lexer": "ipython3",
   "version": "3.6.8"
  }
 },
 "nbformat": 4,
 "nbformat_minor": 4
}
